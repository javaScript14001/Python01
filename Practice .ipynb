{
 "cells": [
  {
   "cell_type": "markdown",
   "id": "bb09af33",
   "metadata": {},
   "source": [
    "## Nested if"
   ]
  },
  {
   "cell_type": "code",
   "execution_count": 1,
   "id": "4bac8fff",
   "metadata": {},
   "outputs": [
    {
     "name": "stdout",
     "output_type": "stream",
     "text": [
      "Enter the value:- 12\n",
      "Hello from the 1st if\n"
     ]
    }
   ],
   "source": [
    "User = int(input(\"Enter the value:- \"))\n",
    "n=10\n",
    "if(User>=n):\n",
    "    print(\"Hello from the 1st if\")\n",
    "    if(User<=n):\n",
    "        print(\"Hello From the 2nd if\")\n",
    "        if(User!=n):\n",
    "            print(\"Hello from the 3rd if\")\n",
    "            if(User==n):\n",
    "                print(\"Hello from the 4th if\")\n"
   ]
  },
  {
   "cell_type": "code",
   "execution_count": 12,
   "id": "d3a0162f",
   "metadata": {},
   "outputs": [
    {
     "name": "stdout",
     "output_type": "stream",
     "text": [
      "Enter your username: admin\n",
      "Enter your password: pratham\n",
      "Incorrect password.\n"
     ]
    }
   ],
   "source": [
    "# using of nested if in python project \n",
    "def authenticate_user(username, password):\n",
    "    if username == \"admin\":\n",
    "        if password == \"secret\":\n",
    "            print(\"Welcome, admin!\")\n",
    "        else:\n",
    "            print(\"Incorrect password.\")\n",
    "    else:\n",
    "        print(\"Invalid username.\")\n",
    "\n",
    "username = input(\"Enter your username: \")\n",
    "password = input(\"Enter your password: \")\n",
    "\n",
    "authenticate_user(username, password)"
   ]
  },
  {
   "cell_type": "markdown",
   "id": "52d7edfb",
   "metadata": {},
   "source": [
    "## String practice\n",
    "\n",
    "##### Creating the String "
   ]
  },
  {
   "cell_type": "code",
   "execution_count": 3,
   "id": "c27661c9",
   "metadata": {},
   "outputs": [],
   "source": [
    "myStr = \"String in python\" # Double quotes written the String"
   ]
  },
  {
   "cell_type": "code",
   "execution_count": 4,
   "id": "44ed059b",
   "metadata": {},
   "outputs": [
    {
     "data": {
      "text/plain": [
       "'String in python'"
      ]
     },
     "execution_count": 4,
     "metadata": {},
     "output_type": "execute_result"
    }
   ],
   "source": [
    "myStr"
   ]
  },
  {
   "cell_type": "code",
   "execution_count": 5,
   "id": "d32914c6",
   "metadata": {},
   "outputs": [
    {
     "data": {
      "text/plain": [
       "'String in python'"
      ]
     },
     "execution_count": 5,
     "metadata": {},
     "output_type": "execute_result"
    }
   ],
   "source": [
    "myStr1 = 'String in python' #Single quotes written in string\n",
    "myStr1"
   ]
  },
  {
   "cell_type": "markdown",
   "id": "63fd102f",
   "metadata": {},
   "source": [
    "##### Accessing the String element in Python"
   ]
  },
  {
   "cell_type": "code",
   "execution_count": 6,
   "id": "67fa5ddf",
   "metadata": {},
   "outputs": [
    {
     "name": "stdout",
     "output_type": "stream",
     "text": [
      "Software Enginee\n"
     ]
    }
   ],
   "source": [
    "str1 = \"Software Engineer\"\n",
    "print(str1[0:-1])"
   ]
  },
  {
   "cell_type": "code",
   "execution_count": 7,
   "id": "b31c4cc6",
   "metadata": {},
   "outputs": [
    {
     "data": {
      "text/plain": [
       "'rein rwfS'"
      ]
     },
     "execution_count": 7,
     "metadata": {},
     "output_type": "execute_result"
    }
   ],
   "source": [
    "str1[::-2]"
   ]
  },
  {
   "cell_type": "code",
   "execution_count": 8,
   "id": "91c34462",
   "metadata": {},
   "outputs": [
    {
     "data": {
      "text/plain": [
       "'erawtf'"
      ]
     },
     "execution_count": 8,
     "metadata": {},
     "output_type": "execute_result"
    }
   ],
   "source": [
    "str1[-10:-16:-1]"
   ]
  },
  {
   "cell_type": "code",
   "execution_count": 9,
   "id": "64b90b24",
   "metadata": {},
   "outputs": [
    {
     "data": {
      "text/plain": [
       "'reenignE erawtfoS'"
      ]
     },
     "execution_count": 9,
     "metadata": {},
     "output_type": "execute_result"
    }
   ],
   "source": [
    "str1[::-1]"
   ]
  },
  {
   "cell_type": "code",
   "execution_count": 10,
   "id": "10bbd449",
   "metadata": {},
   "outputs": [
    {
     "data": {
      "text/plain": [
       "['Engineer', 'Software']"
      ]
     },
     "execution_count": 10,
     "metadata": {},
     "output_type": "execute_result"
    }
   ],
   "source": [
    "str1.split()[::-1]"
   ]
  },
  {
   "cell_type": "code",
   "execution_count": 11,
   "id": "f19f41f7",
   "metadata": {},
   "outputs": [],
   "source": [
    "User1 = str1[0:4]"
   ]
  },
  {
   "cell_type": "code",
   "execution_count": 12,
   "id": "4a208138",
   "metadata": {},
   "outputs": [
    {
     "data": {
      "text/plain": [
       "'Soft'"
      ]
     },
     "execution_count": 12,
     "metadata": {},
     "output_type": "execute_result"
    }
   ],
   "source": [
    "User1"
   ]
  },
  {
   "cell_type": "code",
   "execution_count": 13,
   "id": "c7bc2f69",
   "metadata": {},
   "outputs": [],
   "source": [
    "User2= str1[9:13]"
   ]
  },
  {
   "cell_type": "code",
   "execution_count": 14,
   "id": "6d1b63e6",
   "metadata": {},
   "outputs": [
    {
     "data": {
      "text/plain": [
       "'Engi'"
      ]
     },
     "execution_count": 14,
     "metadata": {},
     "output_type": "execute_result"
    }
   ],
   "source": [
    "User2"
   ]
  },
  {
   "cell_type": "code",
   "execution_count": 15,
   "id": "88cfa4a2",
   "metadata": {},
   "outputs": [
    {
     "data": {
      "text/plain": [
       "[]"
      ]
     },
     "execution_count": 15,
     "metadata": {},
     "output_type": "execute_result"
    }
   ],
   "source": [
    "str1.split()[-1:-4]"
   ]
  },
  {
   "cell_type": "code",
   "execution_count": 16,
   "id": "d13c29e4",
   "metadata": {},
   "outputs": [],
   "source": [
    "Store = str1.split()[::-1]"
   ]
  },
  {
   "cell_type": "code",
   "execution_count": 17,
   "id": "51602a16",
   "metadata": {},
   "outputs": [
    {
     "data": {
      "text/plain": [
       "['Engineer', 'Software']"
      ]
     },
     "execution_count": 17,
     "metadata": {},
     "output_type": "execute_result"
    }
   ],
   "source": [
    "Store"
   ]
  },
  {
   "cell_type": "code",
   "execution_count": 18,
   "id": "11729b9c",
   "metadata": {},
   "outputs": [
    {
     "data": {
      "text/plain": [
       "['Engineer']"
      ]
     },
     "execution_count": 18,
     "metadata": {},
     "output_type": "execute_result"
    }
   ],
   "source": [
    "Store[0:1]"
   ]
  },
  {
   "cell_type": "code",
   "execution_count": 33,
   "id": "1b6bfffb",
   "metadata": {},
   "outputs": [],
   "source": [
    "# All String Function \n",
    "joy_str = \"Joy is Worked in the Microsoft\""
   ]
  },
  {
   "cell_type": "code",
   "execution_count": 46,
   "id": "2630f6fb",
   "metadata": {},
   "outputs": [
    {
     "data": {
      "text/plain": [
       "' MICROSOFT'"
      ]
     },
     "execution_count": 46,
     "metadata": {},
     "output_type": "execute_result"
    }
   ],
   "source": [
    "joy_str[20:].upper()"
   ]
  },
  {
   "cell_type": "code",
   "execution_count": 47,
   "id": "1f30d16e",
   "metadata": {},
   "outputs": [
    {
     "name": "stdout",
     "output_type": "stream",
     "text": [
      "hello WORLD\n"
     ]
    }
   ],
   "source": [
    "# Original string\n",
    "original_string = \"hello world\"\n",
    "\n",
    "# Convert only \"world\" to uppercase\n",
    "part1 = original_string[:6]  # \"hello \"\n",
    "part2 = original_string[6:].upper()  # \"WORLD\"\n",
    "\n",
    "result = part1 + part2\n",
    "print(result)  # Output: hello WORLD\n"
   ]
  },
  {
   "cell_type": "code",
   "execution_count": 57,
   "id": "1262c282",
   "metadata": {},
   "outputs": [
    {
     "data": {
      "text/plain": [
       "'joy is worked in the microsoft'"
      ]
     },
     "execution_count": 57,
     "metadata": {},
     "output_type": "execute_result"
    }
   ],
   "source": [
    "joy_str.lower()"
   ]
  },
  {
   "cell_type": "code",
   "execution_count": 58,
   "id": "8b7213d1",
   "metadata": {},
   "outputs": [
    {
     "data": {
      "text/plain": [
       "'Joy is Worked in the Google'"
      ]
     },
     "execution_count": 58,
     "metadata": {},
     "output_type": "execute_result"
    }
   ],
   "source": [
    "joy_str.replace(\"Microsoft\",\"Google\")"
   ]
  },
  {
   "cell_type": "code",
   "execution_count": 59,
   "id": "cedf96a5",
   "metadata": {},
   "outputs": [
    {
     "data": {
      "text/plain": [
       "21"
      ]
     },
     "execution_count": 59,
     "metadata": {},
     "output_type": "execute_result"
    }
   ],
   "source": [
    "# Find the index of string\n",
    "\n",
    "joy_str.find(\"Microsoft\")\n"
   ]
  },
  {
   "cell_type": "code",
   "execution_count": 96,
   "id": "77bc3061",
   "metadata": {},
   "outputs": [
    {
     "data": {
      "text/plain": [
       "['Joy', 'is', 'Worked', 'in', 'the', 'Microsoft']"
      ]
     },
     "execution_count": 96,
     "metadata": {},
     "output_type": "execute_result"
    }
   ],
   "source": [
    "joy_str.split()"
   ]
  },
  {
   "cell_type": "code",
   "execution_count": 97,
   "id": "f85456aa",
   "metadata": {},
   "outputs": [
    {
     "data": {
      "text/plain": [
       "['Microsoft', 'the', 'in', 'Worked', 'is', 'Joy']"
      ]
     },
     "execution_count": 97,
     "metadata": {},
     "output_type": "execute_result"
    }
   ],
   "source": [
    "joy_str.split()[::-1]"
   ]
  },
  {
   "cell_type": "code",
   "execution_count": 106,
   "id": "a0552881",
   "metadata": {},
   "outputs": [
    {
     "name": "stdout",
     "output_type": "stream",
     "text": [
      "Enter a year: 3030\n",
      "3030 is not a leap year.\n"
     ]
    }
   ],
   "source": [
    "# Input year\n",
    "year = int(input(\"Enter a year: \"))\n",
    "\n",
    "# Check leap year using nested if\n",
    "if year % 4 == 0:\n",
    "    if year % 100 == 0:\n",
    "        if year % 400 == 0:\n",
    "            print(f\"{year} is a leap year.\")  \n",
    "        else:\n",
    "            print(f\"{year} is not a leap year.\")  \n",
    "    else:\n",
    "        print(f\"{year} is a leap year.\") \n",
    "else:\n",
    "    print(f\"{year} is not a leap year.\")\n"
   ]
  },
  {
   "cell_type": "markdown",
   "id": "fdc6ba16",
   "metadata": {},
   "source": [
    "## Function in python and with practice\n"
   ]
  },
  {
   "cell_type": "code",
   "execution_count": 108,
   "id": "0e501411",
   "metadata": {},
   "outputs": [
    {
     "name": "stdout",
     "output_type": "stream",
     "text": [
      "pratham Hello i am Function\n"
     ]
    }
   ],
   "source": [
    "#Creation of Function\n",
    "def my_function(name):\n",
    "    print(name + \" Hello i am Function\")\n",
    "\n",
    "my_function(\"pratham\")    "
   ]
  },
  {
   "cell_type": "code",
   "execution_count": 111,
   "id": "6ec6f46e",
   "metadata": {
    "scrolled": true
   },
   "outputs": [
    {
     "name": "stdout",
     "output_type": "stream",
     "text": [
      "10 is number of user \n"
     ]
    }
   ],
   "source": [
    "def my_function(n):\n",
    "    print(n + \" is number of user \")\n",
    "    \n",
    "my_function(\"10\")    "
   ]
  },
  {
   "cell_type": "markdown",
   "id": "dd80982f",
   "metadata": {},
   "source": [
    "## Arbitary Function Argument ,* args"
   ]
  },
  {
   "cell_type": "markdown",
   "id": "5e3a3cf4",
   "metadata": {},
   "source": [
    "* if you do not known how many argument in the function, it can take the triples argument in the function."
   ]
  },
  {
   "cell_type": "code",
   "execution_count": 117,
   "id": "2ab38eb1",
   "metadata": {},
   "outputs": [
    {
     "name": "stdout",
     "output_type": "stream",
     "text": [
      "artifical intellegence is made by Suthar\n"
     ]
    }
   ],
   "source": [
    "def arbitary_function(*name):\n",
    "    print(\"artifical intellegence is made by \" + name[1])\n",
    "\n",
    "arbitary_function(\"Pratham\",\"Suthar\",\"Mahendra\")    "
   ]
  },
  {
   "cell_type": "markdown",
   "id": "e7719dc4",
   "metadata": {},
   "source": [
    "## keyword Argument (key = value ) "
   ]
  },
  {
   "cell_type": "code",
   "execution_count": 119,
   "id": "dbc299f7",
   "metadata": {},
   "outputs": [
    {
     "name": "stdout",
     "output_type": "stream",
     "text": [
      "The world multi billonaire is  pratham suthar\n"
     ]
    }
   ],
   "source": [
    "def my_fc(a1,b1,c1):\n",
    "    print(\"The world multi billonaire is \" + b1)\n",
    "\n",
    "my_fc(a1 = \"elon musk\",b1 = \" pratham suthar\",c1 = \"ratan tata\" )    "
   ]
  },
  {
   "cell_type": "markdown",
   "id": "de949ee0",
   "metadata": {},
   "source": [
    "### Arbitary  keyword Arguments , **kwargs"
   ]
  },
  {
   "cell_type": "code",
   "execution_count": 125,
   "id": "4877b4cc",
   "metadata": {},
   "outputs": [
    {
     "name": "stdout",
     "output_type": "stream",
     "text": [
      "Top multi billonaire name is Pratham \n"
     ]
    }
   ],
   "source": [
    "def my_fc(**name):\n",
    "    print(\"Top multi billonaire name is \" + name[\"fname\"])\n",
    " \n",
    "my_fc(fname = \"Pratham \" , mname = \"Mahendra\" , lname = \"Suthar\")\n"
   ]
  },
  {
   "cell_type": "markdown",
   "id": "2505b752",
   "metadata": {},
   "source": [
    "## Default parameter"
   ]
  },
  {
   "cell_type": "code",
   "execution_count": 126,
   "id": "fbf1e7a6",
   "metadata": {},
   "outputs": [
    {
     "name": "stdout",
     "output_type": "stream",
     "text": [
      "My Course join name is BTech\n"
     ]
    }
   ],
   "source": [
    "def Def_para(course=\"BTech\"):\n",
    "    print(\"My Course join name is \" + course)\n",
    "\n",
    "Def_para()"
   ]
  },
  {
   "cell_type": "code",
   "execution_count": 127,
   "id": "db0fcfd4",
   "metadata": {},
   "outputs": [
    {
     "name": "stdout",
     "output_type": "stream",
     "text": [
      "My Course join name is MCA\n"
     ]
    }
   ],
   "source": [
    "Def_para(\"MCA\")"
   ]
  },
  {
   "cell_type": "code",
   "execution_count": 128,
   "id": "c8b1dcde",
   "metadata": {},
   "outputs": [
    {
     "name": "stdout",
     "output_type": "stream",
     "text": [
      "My Course join name is BCA\n"
     ]
    }
   ],
   "source": [
    "Def_para(\"BCA\")"
   ]
  },
  {
   "cell_type": "markdown",
   "id": "213b28ab",
   "metadata": {},
   "source": [
    "# For Loop in python \n",
    "\n",
    "* 10 problems of For loop "
   ]
  },
  {
   "cell_type": "code",
   "execution_count": 145,
   "id": "a08c2f18",
   "metadata": {},
   "outputs": [
    {
     "name": "stdout",
     "output_type": "stream",
     "text": [
      "Final Total Negative value is 4\n"
     ]
    }
   ],
   "source": [
    "#Counting the Neagtive and positive Numbers\n",
    "Num = [1,-2,-3,4,5,-6,-7,9,10]\n",
    "Sum = 0 \n",
    "for x in Num:\n",
    "    if x < 0:\n",
    "        Sum +=1\n",
    "                \n",
    "print(\"Final Total Negative value is\",Sum)        \n",
    "    "
   ]
  },
  {
   "cell_type": "code",
   "execution_count": 157,
   "id": "9c44fb33",
   "metadata": {},
   "outputs": [
    {
     "name": "stdout",
     "output_type": "stream",
     "text": [
      "2\n",
      "4\n",
      "6\n",
      "8\n",
      "10\n",
      "Sum of calculated Even Number : 30\n"
     ]
    }
   ],
   "source": [
    "#Sum of even Number\n",
    "Sum = 0 \n",
    "for even in range(10):\n",
    "    even+=1\n",
    "    if even%2 == 0:\n",
    "        print(even)\n",
    "        Sum+=even\n",
    "        \n",
    "print(\"Sum of calculated Even Number :\",Sum)        \n",
    "        \n",
    "    \n"
   ]
  },
  {
   "cell_type": "code",
   "execution_count": 12,
   "id": "322c3614",
   "metadata": {},
   "outputs": [
    {
     "name": "stdout",
     "output_type": "stream",
     "text": [
      "5 X 1 = 5\n",
      "5 X 2 = 10\n",
      "5 X 3 = 15\n",
      "5 X 4 = 20\n",
      "5 X 6 = 30\n",
      "5 X 7 = 35\n",
      "5 X 8 = 40\n",
      "5 X 9 = 45\n",
      "5 X 10 = 50\n"
     ]
    }
   ],
   "source": [
    "#Multiplication of Table printer\n",
    "n = 5 \n",
    "\n",
    "for i in range(1,11):\n",
    "    if i == 5:\n",
    "        continue\n",
    "    print(n,'X',i,'=',n*i)"
   ]
  },
  {
   "cell_type": "code",
   "execution_count": 17,
   "id": "84b6ffc2",
   "metadata": {},
   "outputs": [
    {
     "name": "stdout",
     "output_type": "stream",
     "text": [
      "mahtarP\n"
     ]
    }
   ],
   "source": [
    "# Reverse the String fOR loop\n",
    "my_String = \"Pratham\"\n",
    "current_Str= \"\"\n",
    "for i in my_String:\n",
    "    current_Str = i + current_Str\n",
    "    \n",
    "    \n",
    "    \n",
    "print(current_Str)\n",
    "        "
   ]
  },
  {
   "cell_type": "code",
   "execution_count": 36,
   "id": "30b1885d",
   "metadata": {},
   "outputs": [
    {
     "name": "stdout",
     "output_type": "stream",
     "text": [
      "no reapting : B\n",
      "no reapting : d\n",
      "no reapting : A\n",
      "no reapting : l\n",
      "no reapting : j\n",
      "no reapting : u\n",
      "no reapting : i\n",
      "no reapting : c\n"
     ]
    }
   ],
   "source": [
    "#Find the First no reapting characters\n",
    "Str1 = \"Banana and Apple juice\"\n",
    "\n",
    "for char in Str1:\n",
    "    if Str1.count(char) == 1:\n",
    "        print(\"no reapting :\",char)"
   ]
  },
  {
   "cell_type": "code",
   "execution_count": 13,
   "id": "9177969a",
   "metadata": {},
   "outputs": [
    {
     "name": "stdout",
     "output_type": "stream",
     "text": [
      "Enter the factorial nnumber: 4\n",
      "1 of factorial number is : 24\n"
     ]
    }
   ],
   "source": [
    "# Factorial Calculator\n",
    "User_Num = int(input(\"Enter the factorial nnumber: \"))\n",
    "\n",
    "fact =1 \n",
    "\n",
    "while User_Num > 1:\n",
    "    fact *= User_Num\n",
    "    User_Num-=1\n",
    "    \n",
    "    \n",
    "    \n",
    "print(f\"{User_Num} of factorial number is :\",fact)        \n",
    "    \n",
    "    "
   ]
  },
  {
   "cell_type": "code",
   "execution_count": 1,
   "id": "6cd72f49",
   "metadata": {},
   "outputs": [
    {
     "name": "stdout",
     "output_type": "stream",
     "text": [
      "Enter the value b/w 1 to 10 :3\n",
      "Thank you\n"
     ]
    }
   ],
   "source": [
    "#Validates input\n",
    "\n",
    "while True:\n",
    "    n = int(input(\"Enter the value b/w 1 to 10 :\"))\n",
    "    if n >= 1 and n <=10:\n",
    "        print(\"Thank you\")\n",
    "        break\n",
    "    else:\n",
    "        print(\"Errror enter the value b/w 1 to 10\")         \n",
    "\n",
    "    \n"
   ]
  },
  {
   "cell_type": "code",
   "execution_count": 3,
   "id": "3731b81e",
   "metadata": {},
   "outputs": [
    {
     "name": "stdout",
     "output_type": "stream",
     "text": [
      "Enter the value : 4\n",
      "Not a prime Number\n"
     ]
    }
   ],
   "source": [
    "# Prime Number  or not check\n",
    "\n",
    "n = int(input(\"Enter the value : \"))\n",
    "\n",
    "if n >1:\n",
    "    for i in range(2,n):\n",
    "        if(n%2)==0:\n",
    "            print(\"Not a prime Number\")\n",
    "            break\n",
    "        else:\n",
    "            print(\"Prime Number\")\n",
    "       "
   ]
  },
  {
   "cell_type": "code",
   "execution_count": null,
   "id": "a0cc73fd",
   "metadata": {},
   "outputs": [],
   "source": []
  }
 ],
 "metadata": {
  "kernelspec": {
   "display_name": "Python 3 (ipykernel)",
   "language": "python",
   "name": "python3"
  },
  "language_info": {
   "codemirror_mode": {
    "name": "ipython",
    "version": 3
   },
   "file_extension": ".py",
   "mimetype": "text/x-python",
   "name": "python",
   "nbconvert_exporter": "python",
   "pygments_lexer": "ipython3",
   "version": "3.9.12"
  }
 },
 "nbformat": 4,
 "nbformat_minor": 5
}
