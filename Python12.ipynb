{
 "cells": [
  {
   "cell_type": "markdown",
   "id": "d10ab4e0",
   "metadata": {},
   "source": [
    "## Tutorial of python\n",
    "\n",
    "Python is a programming Language .Now a day pyhton is very popular pragramming language , it not  a latest pragramming langauge  it's came in the picture in 1989 and java came in the pciture 1995 . So ,you ccan imagzine that how old this pragamming language is. this pragramming language is use in most of the field like Data Analystics ,Data Science ,A.I ,Data Enginner and many more \n",
    "\n",
    "\n"
   ]
  },
  {
   "cell_type": "code",
   "execution_count": null,
   "id": "0ad754db",
   "metadata": {},
   "outputs": [],
   "source": []
  },
  {
   "cell_type": "markdown",
   "id": "88d9a469",
   "metadata": {},
   "source": [
    "## What is Jupyter Notebook"
   ]
  },
  {
   "cell_type": "markdown",
   "id": "67ddb97a",
   "metadata": {},
   "source": [
    "* The jupyter Notebook is an open-source web application that allows data scientists to create and share documents that integrate live code ,equation,computational output,visulaization, and other multimedia resources,\n",
    "\n",
    "\n",
    "* Uses include data cleaning and transformation ,numerical simulation ,statiscal modeling,data visualization ,machine learning and much more.\n",
    "\n",
    "Jupyter Notebook is an open -source web application the allows to interact with python"
   ]
  },
  {
   "cell_type": "markdown",
   "id": "11f5d6a1",
   "metadata": {},
   "source": [
    "# Advantage :-"
   ]
  },
  {
   "cell_type": "markdown",
   "id": "c9bb956f",
   "metadata": {},
   "source": [
    "* Interactive\n",
    "\n",
    "* Result/output are stored so it is easy to review\n",
    "\n",
    "* Friendly for documentation \n",
    "\n",
    "* No limitaion from performance \n",
    "\n",
    "* helpful shortcuts\n",
    "\n",
    "* Industry standard for all data science ,ML , AI project \n",
    "\n",
    "Extension of jupyter file is ipynb ( python notebook ,previous name of jupyter )\n"
   ]
  },
  {
   "cell_type": "markdown",
   "id": "8171dfcf",
   "metadata": {},
   "source": [
    "# Short Cuts"
   ]
  },
  {
   "cell_type": "markdown",
   "id": "6f0a3bd4",
   "metadata": {},
   "source": [
    "[shift] + [enter] : run cell "
   ]
  },
  {
   "cell_type": "markdown",
   "id": "11374e5c",
   "metadata": {},
   "source": [
    "Command mode:"
   ]
  },
  {
   "cell_type": "markdown",
   "id": "2203ae25",
   "metadata": {},
   "source": [
    "* esc and c : insert cell above\n",
    "* esc and b :insesrt cell below   \n",
    "* esc and dd : delete cell\n",
    "*  esc and z :undo a delete cell \n",
    "* esc and r :convert cell to raw cell \n",
    "* esc and m :convert cell to markdown cell \n",
    "\n"
   ]
  },
  {
   "cell_type": "markdown",
   "id": "6edea494",
   "metadata": {},
   "source": [
    "## Edit Mode :\n"
   ]
  },
  {
   "cell_type": "markdown",
   "id": "54c2fd7f",
   "metadata": {},
   "source": [
    "Crtl+C: Copy a text \n",
    "\n",
    "Crtl+V : Paste \n",
    "\n",
    "Crtl+x: Cut \n",
    "\n",
    "Ctrl+z: undo"
   ]
  },
  {
   "cell_type": "markdown",
   "id": "d2044608",
   "metadata": {},
   "source": [
    "## __Keywords__"
   ]
  },
  {
   "cell_type": "code",
   "execution_count": 9,
   "id": "d345b5ff",
   "metadata": {},
   "outputs": [],
   "source": [
    "import keyword"
   ]
  },
  {
   "cell_type": "code",
   "execution_count": 11,
   "id": "c295943a",
   "metadata": {},
   "outputs": [
    {
     "data": {
      "text/plain": [
       "['False',\n",
       " 'None',\n",
       " 'True',\n",
       " '__peg_parser__',\n",
       " 'and',\n",
       " 'as',\n",
       " 'assert',\n",
       " 'async',\n",
       " 'await',\n",
       " 'break',\n",
       " 'class',\n",
       " 'continue',\n",
       " 'def',\n",
       " 'del',\n",
       " 'elif',\n",
       " 'else',\n",
       " 'except',\n",
       " 'finally',\n",
       " 'for',\n",
       " 'from',\n",
       " 'global',\n",
       " 'if',\n",
       " 'import',\n",
       " 'in',\n",
       " 'is',\n",
       " 'lambda',\n",
       " 'nonlocal',\n",
       " 'not',\n",
       " 'or',\n",
       " 'pass',\n",
       " 'raise',\n",
       " 'return',\n",
       " 'try',\n",
       " 'while',\n",
       " 'with',\n",
       " 'yield']"
      ]
     },
     "execution_count": 11,
     "metadata": {},
     "output_type": "execute_result"
    }
   ],
   "source": [
    "keyword.kwlist # all reserved keywords in the python"
   ]
  },
  {
   "cell_type": "code",
   "execution_count": 18,
   "id": "5959b7a3",
   "metadata": {},
   "outputs": [
    {
     "data": {
      "text/plain": [
       "36"
      ]
     },
     "execution_count": 18,
     "metadata": {},
     "output_type": "execute_result"
    }
   ],
   "source": [
    "len(keyword.kwlist)"
   ]
  },
  {
   "cell_type": "markdown",
   "id": "fd4f32f2",
   "metadata": {},
   "source": [
    "## Identifiers\n",
    "\n",
    "\n",
    "* An identifiers is the name given to entities like functions, variables etc.\n",
    "* It helps in differentiating one entity from other ."
   ]
  },
  {
   "cell_type": "code",
   "execution_count": 30,
   "id": "ae5f0517",
   "metadata": {},
   "outputs": [],
   "source": [
    "str1 = \"Hello first python code\""
   ]
  },
  {
   "cell_type": "code",
   "execution_count": 31,
   "id": "86ba63f2",
   "metadata": {},
   "outputs": [
    {
     "data": {
      "text/plain": [
       "'Hello first python code'"
      ]
     },
     "execution_count": 31,
     "metadata": {},
     "output_type": "execute_result"
    }
   ],
   "source": [
    "str1"
   ]
  },
  {
   "cell_type": "markdown",
   "id": "49c1294c",
   "metadata": {},
   "source": [
    "# Note"
   ]
  },
  {
   "cell_type": "markdown",
   "id": "7aac4c7c",
   "metadata": {},
   "source": [
    "identifier can not br initiaite with digit \n",
    "\n",
    "identifier cannot use speacial symbol.\n",
    "\n",
    "keywords cannot be used as identifier\n"
   ]
  },
  {
   "cell_type": "markdown",
   "id": "e5619697",
   "metadata": {},
   "source": [
    "# COMMENTS"
   ]
  },
  {
   "cell_type": "markdown",
   "id": "8a7378e5",
   "metadata": {},
   "source": [
    "* Single Line Comments\n",
    "* Multiline comments\n",
    " "
   ]
  },
  {
   "cell_type": "markdown",
   "id": "9ec0cff7",
   "metadata": {},
   "source": [
    "# Single line comments "
   ]
  },
  {
   "cell_type": "code",
   "execution_count": 34,
   "id": "72477620",
   "metadata": {},
   "outputs": [],
   "source": [
    "a = 10 # this is defined that value can stored in the variable\n"
   ]
  },
  {
   "cell_type": "markdown",
   "id": "4b50b570",
   "metadata": {},
   "source": [
    "# Multi line comments "
   ]
  },
  {
   "cell_type": "code",
   "execution_count": 39,
   "id": "72bb0a5b",
   "metadata": {},
   "outputs": [
    {
     "data": {
      "text/plain": [
       "' This is multi line comments codeIt is my first python code '"
      ]
     },
     "execution_count": 39,
     "metadata": {},
     "output_type": "execute_result"
    }
   ],
   "source": [
    "\"\"\" This is multi line comments code\\\n",
    "It is my first python code \\\n",
    "\"\"\""
   ]
  },
  {
   "cell_type": "code",
   "execution_count": 40,
   "id": "cee7ad37",
   "metadata": {},
   "outputs": [],
   "source": [
    "p1 = \" Hello i am code learner\""
   ]
  },
  {
   "cell_type": "code",
   "execution_count": 41,
   "id": "68714847",
   "metadata": {},
   "outputs": [
    {
     "data": {
      "text/plain": [
       "' Hello i am code learner'"
      ]
     },
     "execution_count": 41,
     "metadata": {},
     "output_type": "execute_result"
    }
   ],
   "source": [
    "p1"
   ]
  },
  {
   "cell_type": "code",
   "execution_count": 42,
   "id": "02995711",
   "metadata": {},
   "outputs": [],
   "source": [
    "p2 = \"\"\" This is multi line comments code\\\n",
    "It is my first python code \\\n",
    "\"\"\""
   ]
  },
  {
   "cell_type": "code",
   "execution_count": 43,
   "id": "d04d5d56",
   "metadata": {},
   "outputs": [
    {
     "data": {
      "text/plain": [
       "' This is multi line comments codeIt is my first python code '"
      ]
     },
     "execution_count": 43,
     "metadata": {},
     "output_type": "execute_result"
    }
   ],
   "source": [
    "p2"
   ]
  },
  {
   "cell_type": "code",
   "execution_count": 44,
   "id": "48069909",
   "metadata": {},
   "outputs": [
    {
     "data": {
      "text/plain": [
       "' This is multi line comments codeIt is my first python code '"
      ]
     },
     "execution_count": 44,
     "metadata": {},
     "output_type": "execute_result"
    }
   ],
   "source": [
    "p1 \n",
    "p2"
   ]
  },
  {
   "cell_type": "code",
   "execution_count": 45,
   "id": "2b06179e",
   "metadata": {},
   "outputs": [
    {
     "data": {
      "text/plain": [
       "' Hello i am code learner'"
      ]
     },
     "execution_count": 45,
     "metadata": {},
     "output_type": "execute_result"
    }
   ],
   "source": [
    "p2\n",
    "p1"
   ]
  },
  {
   "cell_type": "code",
   "execution_count": 46,
   "id": "8c13970e",
   "metadata": {},
   "outputs": [
    {
     "name": "stdout",
     "output_type": "stream",
     "text": [
      " This is multi line comments codeIt is my first python code \n",
      " Hello i am code learner\n"
     ]
    }
   ],
   "source": [
    "print(p2)\n",
    "print(p1)"
   ]
  },
  {
   "cell_type": "markdown",
   "id": "2bc61803",
   "metadata": {},
   "source": [
    "## variable \n"
   ]
  },
  {
   "cell_type": "markdown",
   "id": "da8fab6e",
   "metadata": {},
   "source": [
    "* A python variable is a reserved memory location to store values\n",
    "* A variable is created the moment you first assign a value to it."
   ]
  },
  {
   "cell_type": "code",
   "execution_count": 1,
   "id": "0df3fcb0",
   "metadata": {},
   "outputs": [
    {
     "data": {
      "text/plain": [
       "'Hello Everyone'"
      ]
     },
     "execution_count": 1,
     "metadata": {},
     "output_type": "execute_result"
    }
   ],
   "source": [
    "\"Hello Everyone\""
   ]
  },
  {
   "cell_type": "code",
   "execution_count": 2,
   "id": "4ab49172",
   "metadata": {},
   "outputs": [],
   "source": [
    "a1 = \"I am pratham here\""
   ]
  },
  {
   "cell_type": "code",
   "execution_count": 3,
   "id": "3ca3b591",
   "metadata": {},
   "outputs": [
    {
     "data": {
      "text/plain": [
       "'I am pratham here'"
      ]
     },
     "execution_count": 3,
     "metadata": {},
     "output_type": "execute_result"
    }
   ],
   "source": [
    "a1"
   ]
  },
  {
   "cell_type": "code",
   "execution_count": 4,
   "id": "999724fa",
   "metadata": {},
   "outputs": [],
   "source": [
    "k=30 # Variable creation"
   ]
  },
  {
   "cell_type": "code",
   "execution_count": 5,
   "id": "9341f12a",
   "metadata": {},
   "outputs": [
    {
     "data": {
      "text/plain": [
       "30"
      ]
     },
     "execution_count": 5,
     "metadata": {},
     "output_type": "execute_result"
    }
   ],
   "source": [
    "k # variable calling"
   ]
  },
  {
   "cell_type": "markdown",
   "id": "ee0dbb00",
   "metadata": {},
   "source": [
    "## Multiple variables "
   ]
  },
  {
   "cell_type": "code",
   "execution_count": 6,
   "id": "7c781fde",
   "metadata": {},
   "outputs": [],
   "source": [
    "a1 , k , float_variable = 12,23,1.34\n"
   ]
  },
  {
   "cell_type": "code",
   "execution_count": 7,
   "id": "7978eb76",
   "metadata": {},
   "outputs": [
    {
     "data": {
      "text/plain": [
       "12"
      ]
     },
     "execution_count": 7,
     "metadata": {},
     "output_type": "execute_result"
    }
   ],
   "source": [
    "a1"
   ]
  },
  {
   "cell_type": "code",
   "execution_count": 8,
   "id": "aeec46e7",
   "metadata": {},
   "outputs": [
    {
     "data": {
      "text/plain": [
       "1.34"
      ]
     },
     "execution_count": 8,
     "metadata": {},
     "output_type": "execute_result"
    }
   ],
   "source": [
    "a1 \n",
    "k \n",
    "float_variable "
   ]
  },
  {
   "cell_type": "code",
   "execution_count": 9,
   "id": "049aa97b",
   "metadata": {},
   "outputs": [
    {
     "name": "stdout",
     "output_type": "stream",
     "text": [
      "12 23 1.34\n"
     ]
    }
   ],
   "source": [
    "print(a1,k,float_variable) # multiple variable decalartion "
   ]
  },
  {
   "cell_type": "markdown",
   "id": "6dd6c6b3",
   "metadata": {},
   "source": [
    "# Single quotes and Multiple quotes \n"
   ]
  },
  {
   "cell_type": "code",
   "execution_count": 12,
   "id": "c3cea58f",
   "metadata": {},
   "outputs": [],
   "source": [
    "a = 'pratham'# single"
   ]
  },
  {
   "cell_type": "code",
   "execution_count": 13,
   "id": "227836bf",
   "metadata": {},
   "outputs": [
    {
     "data": {
      "text/plain": [
       "'pratham'"
      ]
     },
     "execution_count": 13,
     "metadata": {},
     "output_type": "execute_result"
    }
   ],
   "source": [
    "a"
   ]
  },
  {
   "cell_type": "code",
   "execution_count": 14,
   "id": "646a3986",
   "metadata": {},
   "outputs": [],
   "source": [
    "a = \"pratham\"# multiple quotes"
   ]
  },
  {
   "cell_type": "code",
   "execution_count": 15,
   "id": "f7442283",
   "metadata": {},
   "outputs": [
    {
     "data": {
      "text/plain": [
       "'pratham'"
      ]
     },
     "execution_count": 15,
     "metadata": {},
     "output_type": "execute_result"
    }
   ],
   "source": [
    "a"
   ]
  },
  {
   "cell_type": "code",
   "execution_count": 16,
   "id": "c3b82244",
   "metadata": {},
   "outputs": [],
   "source": [
    "a = \"\"\"pratham\"\"\""
   ]
  },
  {
   "cell_type": "code",
   "execution_count": 17,
   "id": "0f9924a2",
   "metadata": {},
   "outputs": [
    {
     "data": {
      "text/plain": [
       "'pratham'"
      ]
     },
     "execution_count": 17,
     "metadata": {},
     "output_type": "execute_result"
    }
   ],
   "source": [
    "a"
   ]
  },
  {
   "cell_type": "markdown",
   "id": "9b9a7b4f",
   "metadata": {},
   "source": [
    "# Variable Assignment"
   ]
  },
  {
   "cell_type": "code",
   "execution_count": 18,
   "id": "565f416f",
   "metadata": {},
   "outputs": [
    {
     "data": {
      "text/plain": [
       "' Hello '"
      ]
     },
     "execution_count": 18,
     "metadata": {},
     "output_type": "execute_result"
    }
   ],
   "source": [
    "intvar = 12\n",
    "floatvar= 2.3\n",
    "str1 = \" Hello \"\n",
    "intvar\n",
    "floatvar\n",
    "str1"
   ]
  },
  {
   "cell_type": "markdown",
   "id": "f2fa4362",
   "metadata": {},
   "source": [
    "## Multiple Assignment"
   ]
  },
  {
   "cell_type": "code",
   "execution_count": 19,
   "id": "d35c4039",
   "metadata": {},
   "outputs": [],
   "source": [
    "intvar ,floatvar,str1 = 10 ,2.4,\"Python is easy language\""
   ]
  },
  {
   "cell_type": "code",
   "execution_count": 20,
   "id": "84f2652e",
   "metadata": {},
   "outputs": [
    {
     "name": "stdout",
     "output_type": "stream",
     "text": [
      "10\n"
     ]
    }
   ],
   "source": [
    "print(intvar)"
   ]
  },
  {
   "cell_type": "code",
   "execution_count": 21,
   "id": "51d55e1f",
   "metadata": {},
   "outputs": [
    {
     "name": "stdout",
     "output_type": "stream",
     "text": [
      "10 2.4 Python is easy language\n"
     ]
    }
   ],
   "source": [
    "print(intvar,floatvar,str1)"
   ]
  },
  {
   "cell_type": "markdown",
   "id": "00ab024f",
   "metadata": {},
   "source": [
    "## Data Types"
   ]
  },
  {
   "cell_type": "code",
   "execution_count": 22,
   "id": "aa521588",
   "metadata": {},
   "outputs": [],
   "source": [
    "a= 12"
   ]
  },
  {
   "cell_type": "code",
   "execution_count": 23,
   "id": "463e44be",
   "metadata": {},
   "outputs": [
    {
     "data": {
      "text/plain": [
       "int"
      ]
     },
     "execution_count": 23,
     "metadata": {},
     "output_type": "execute_result"
    }
   ],
   "source": [
    "type(a)"
   ]
  },
  {
   "cell_type": "code",
   "execution_count": 24,
   "id": "8df4bba3",
   "metadata": {},
   "outputs": [],
   "source": [
    "b =21.3"
   ]
  },
  {
   "cell_type": "code",
   "execution_count": 25,
   "id": "0428c140",
   "metadata": {},
   "outputs": [
    {
     "data": {
      "text/plain": [
       "float"
      ]
     },
     "execution_count": 25,
     "metadata": {},
     "output_type": "execute_result"
    }
   ],
   "source": [
    "type(b)"
   ]
  },
  {
   "cell_type": "code",
   "execution_count": 26,
   "id": "bdcea73b",
   "metadata": {},
   "outputs": [],
   "source": [
    "x = \"Lalu prasad\""
   ]
  },
  {
   "cell_type": "code",
   "execution_count": 27,
   "id": "1a0b527b",
   "metadata": {},
   "outputs": [
    {
     "data": {
      "text/plain": [
       "'Lalu prasad'"
      ]
     },
     "execution_count": 27,
     "metadata": {},
     "output_type": "execute_result"
    }
   ],
   "source": [
    "x"
   ]
  },
  {
   "cell_type": "markdown",
   "id": "a78f7c50",
   "metadata": {},
   "source": [
    "## Find size of data types "
   ]
  },
  {
   "cell_type": "code",
   "execution_count": 32,
   "id": "cb64e588",
   "metadata": {},
   "outputs": [],
   "source": [
    "import sys"
   ]
  },
  {
   "cell_type": "code",
   "execution_count": 37,
   "id": "977b0830",
   "metadata": {},
   "outputs": [],
   "source": [
    "a = 1.34"
   ]
  },
  {
   "cell_type": "code",
   "execution_count": 38,
   "id": "5ef3bf4b",
   "metadata": {},
   "outputs": [
    {
     "data": {
      "text/plain": [
       "24"
      ]
     },
     "execution_count": 38,
     "metadata": {},
     "output_type": "execute_result"
    }
   ],
   "source": [
    "sys.getsizeof(a)"
   ]
  },
  {
   "cell_type": "code",
   "execution_count": 40,
   "id": "687cae6c",
   "metadata": {},
   "outputs": [
    {
     "name": "stdout",
     "output_type": "stream",
     "text": [
      "120\n",
      "<class 'int'>\n",
      "28\n"
     ]
    }
   ],
   "source": [
    "var1 = 120\n",
    "print(var1)\n",
    "print(type(var1))\n",
    "print(sys.getsizeof(var1))"
   ]
  },
  {
   "cell_type": "code",
   "execution_count": 43,
   "id": "0eca5664",
   "metadata": {},
   "outputs": [
    {
     "name": "stdout",
     "output_type": "stream",
     "text": [
      "True\n",
      "<class 'bool'>\n",
      "28\n",
      "True is Boolen ?  True\n"
     ]
    }
   ],
   "source": [
    "bool_Var = True\n",
    "print(bool_Var)\n",
    "print(type(bool_Var))\n",
    "print(sys.getsizeof(bool_Var))\n",
    "print(bool_Var,\"is Boolen ? \",isinstance(bool_Var,bool))"
   ]
  },
  {
   "cell_type": "code",
   "execution_count": 44,
   "id": "b3e357ee",
   "metadata": {},
   "outputs": [
    {
     "name": "stdout",
     "output_type": "stream",
     "text": [
      "True\n",
      "<class 'bool'>\n",
      "28\n"
     ]
    }
   ],
   "source": [
    "str_value = \"pratham\"\n",
    "print(bool_Var)\n",
    "print(type(bool_Var))\n",
    "print(sys.getsizeof(bool_Var))"
   ]
  },
  {
   "cell_type": "code",
   "execution_count": 46,
   "id": "637517a9",
   "metadata": {},
   "outputs": [
    {
     "data": {
      "text/plain": [
       "'Harshhhh'"
      ]
     },
     "execution_count": 46,
     "metadata": {},
     "output_type": "execute_result"
    }
   ],
   "source": [
    "str1 = \"Harshhhh\"\n",
    "str1"
   ]
  },
  {
   "cell_type": "code",
   "execution_count": 47,
   "id": "0d9ea304",
   "metadata": {},
   "outputs": [
    {
     "data": {
      "text/plain": [
       "57"
      ]
     },
     "execution_count": 47,
     "metadata": {},
     "output_type": "execute_result"
    }
   ],
   "source": [
    "sys.getsizeof(str1)"
   ]
  },
  {
   "cell_type": "code",
   "execution_count": 48,
   "id": "4791630d",
   "metadata": {},
   "outputs": [
    {
     "name": "stdout",
     "output_type": "stream",
     "text": [
      "(23+1j)\n",
      "<class 'complex'>\n",
      "32\n"
     ]
    }
   ],
   "source": [
    "com = 23 +1j\n",
    "print(com)\n",
    "print(type(com))\n",
    "print(sys.getsizeof(com))"
   ]
  },
  {
   "cell_type": "markdown",
   "id": "00e44a02",
   "metadata": {},
   "source": [
    "## boolean\n"
   ]
  },
  {
   "cell_type": "markdown",
   "id": "30fa0068",
   "metadata": {},
   "source": [
    "* boolean data types can have only two possible values true or false"
   ]
  },
  {
   "cell_type": "code",
   "execution_count": 2,
   "id": "06f34b43",
   "metadata": {},
   "outputs": [],
   "source": [
    "bool1 = True"
   ]
  },
  {
   "cell_type": "code",
   "execution_count": 3,
   "id": "38631594",
   "metadata": {},
   "outputs": [
    {
     "data": {
      "text/plain": [
       "True"
      ]
     },
     "execution_count": 3,
     "metadata": {},
     "output_type": "execute_result"
    }
   ],
   "source": [
    "bool1"
   ]
  },
  {
   "cell_type": "code",
   "execution_count": 4,
   "id": "59fa2ed1",
   "metadata": {},
   "outputs": [],
   "source": [
    "bool2 =False"
   ]
  },
  {
   "cell_type": "code",
   "execution_count": 5,
   "id": "e3cfd30e",
   "metadata": {},
   "outputs": [
    {
     "data": {
      "text/plain": [
       "False"
      ]
     },
     "execution_count": 5,
     "metadata": {},
     "output_type": "execute_result"
    }
   ],
   "source": [
    "bool2"
   ]
  },
  {
   "cell_type": "code",
   "execution_count": 6,
   "id": "d5e036f5",
   "metadata": {},
   "outputs": [
    {
     "data": {
      "text/plain": [
       "bool"
      ]
     },
     "execution_count": 6,
     "metadata": {},
     "output_type": "execute_result"
    }
   ],
   "source": [
    "type(bool1)"
   ]
  },
  {
   "cell_type": "code",
   "execution_count": 7,
   "id": "a6a4f3ad",
   "metadata": {},
   "outputs": [
    {
     "data": {
      "text/plain": [
       "bool"
      ]
     },
     "execution_count": 7,
     "metadata": {},
     "output_type": "execute_result"
    }
   ],
   "source": [
    "type(bool2)"
   ]
  },
  {
   "cell_type": "code",
   "execution_count": 21,
   "id": "36708327",
   "metadata": {},
   "outputs": [
    {
     "name": "stdout",
     "output_type": "stream",
     "text": [
      "Hello sir\n"
     ]
    }
   ],
   "source": [
    "str1= \"Hello sir\"\n",
    "print(str1)"
   ]
  },
  {
   "cell_type": "code",
   "execution_count": 15,
   "id": "955233ae",
   "metadata": {},
   "outputs": [
    {
     "data": {
      "text/plain": [
       "'ris olleH'"
      ]
     },
     "execution_count": 15,
     "metadata": {},
     "output_type": "execute_result"
    }
   ],
   "source": [
    "str1[::-1]"
   ]
  },
  {
   "cell_type": "code",
   "execution_count": 20,
   "id": "e9a726a8",
   "metadata": {},
   "outputs": [
    {
     "data": {
      "text/plain": [
       "True"
      ]
     },
     "execution_count": 20,
     "metadata": {},
     "output_type": "execute_result"
    }
   ],
   "source": [
    "bool(20000)"
   ]
  },
  {
   "cell_type": "code",
   "execution_count": 22,
   "id": "6e90ac81",
   "metadata": {},
   "outputs": [
    {
     "data": {
      "text/plain": [
       "str"
      ]
     },
     "execution_count": 22,
     "metadata": {},
     "output_type": "execute_result"
    }
   ],
   "source": [
    "type(str1)"
   ]
  },
  {
   "cell_type": "code",
   "execution_count": 23,
   "id": "c4efe7c6",
   "metadata": {},
   "outputs": [
    {
     "data": {
      "text/plain": [
       "'e'"
      ]
     },
     "execution_count": 23,
     "metadata": {},
     "output_type": "execute_result"
    }
   ],
   "source": [
    "str1[1]"
   ]
  },
  {
   "cell_type": "code",
   "execution_count": 24,
   "id": "258699aa",
   "metadata": {},
   "outputs": [
    {
     "data": {
      "text/plain": [
       "'Hlosr'"
      ]
     },
     "execution_count": 24,
     "metadata": {},
     "output_type": "execute_result"
    }
   ],
   "source": [
    "str1[0::2]"
   ]
  },
  {
   "cell_type": "code",
   "execution_count": 25,
   "id": "f1f66a5e",
   "metadata": {},
   "outputs": [
    {
     "data": {
      "text/plain": [
       "'He'"
      ]
     },
     "execution_count": 25,
     "metadata": {},
     "output_type": "execute_result"
    }
   ],
   "source": [
    "str1[0:2]"
   ]
  },
  {
   "cell_type": "code",
   "execution_count": 26,
   "id": "392adbf5",
   "metadata": {},
   "outputs": [
    {
     "data": {
      "text/plain": [
       "'i'"
      ]
     },
     "execution_count": 26,
     "metadata": {},
     "output_type": "execute_result"
    }
   ],
   "source": [
    "str1[-2]"
   ]
  },
  {
   "cell_type": "code",
   "execution_count": 27,
   "id": "f68c0ea5",
   "metadata": {},
   "outputs": [
    {
     "data": {
      "text/plain": [
       "9"
      ]
     },
     "execution_count": 27,
     "metadata": {},
     "output_type": "execute_result"
    }
   ],
   "source": [
    "len(str1)"
   ]
  },
  {
   "cell_type": "code",
   "execution_count": 28,
   "id": "06b9d100",
   "metadata": {},
   "outputs": [
    {
     "data": {
      "text/plain": [
       "'sir'"
      ]
     },
     "execution_count": 28,
     "metadata": {},
     "output_type": "execute_result"
    }
   ],
   "source": [
    "str1[6:]"
   ]
  },
  {
   "cell_type": "code",
   "execution_count": 29,
   "id": "077b9998",
   "metadata": {},
   "outputs": [
    {
     "data": {
      "text/plain": [
       "'Hello si'"
      ]
     },
     "execution_count": 29,
     "metadata": {},
     "output_type": "execute_result"
    }
   ],
   "source": [
    "str1[:-1]"
   ]
  },
  {
   "cell_type": "code",
   "execution_count": 30,
   "id": "c68956ca",
   "metadata": {},
   "outputs": [
    {
     "data": {
      "text/plain": [
       "'ris olleH'"
      ]
     },
     "execution_count": 30,
     "metadata": {},
     "output_type": "execute_result"
    }
   ],
   "source": [
    "str1[::-1]"
   ]
  },
  {
   "cell_type": "code",
   "execution_count": 31,
   "id": "667cb6bf",
   "metadata": {},
   "outputs": [
    {
     "data": {
      "text/plain": [
       "['Hello', 'sir']"
      ]
     },
     "execution_count": 31,
     "metadata": {},
     "output_type": "execute_result"
    }
   ],
   "source": [
    "str1.split()"
   ]
  },
  {
   "cell_type": "code",
   "execution_count": 32,
   "id": "af05831f",
   "metadata": {},
   "outputs": [
    {
     "data": {
      "text/plain": [
       "['sir', 'Hello']"
      ]
     },
     "execution_count": 32,
     "metadata": {},
     "output_type": "execute_result"
    }
   ],
   "source": [
    "str1.split()[::-1]"
   ]
  },
  {
   "cell_type": "markdown",
   "id": "fe43fd1c",
   "metadata": {},
   "source": [
    "## str1[start:end:step]"
   ]
  },
  {
   "cell_type": "code",
   "execution_count": 39,
   "id": "bd7cd2fc",
   "metadata": {},
   "outputs": [
    {
     "data": {
      "text/plain": [
       "'r'"
      ]
     },
     "execution_count": 39,
     "metadata": {},
     "output_type": "execute_result"
    }
   ],
   "source": [
    "str1[-1::2]"
   ]
  },
  {
   "cell_type": "markdown",
   "id": "46583b14",
   "metadata": {},
   "source": [
    "## update and Delete in string "
   ]
  },
  {
   "cell_type": "code",
   "execution_count": 40,
   "id": "0ea75897",
   "metadata": {},
   "outputs": [
    {
     "data": {
      "text/plain": [
       "'Hello i am pratham'"
      ]
     },
     "execution_count": 40,
     "metadata": {},
     "output_type": "execute_result"
    }
   ],
   "source": [
    "str1 = \"Hello i am pratham\"\n",
    "str1"
   ]
  },
  {
   "cell_type": "code",
   "execution_count": 45,
   "id": "a9d40d8f",
   "metadata": {},
   "outputs": [],
   "source": [
    "str2 = str1.replace(\"pratham\",\"Hero\")"
   ]
  },
  {
   "cell_type": "code",
   "execution_count": 46,
   "id": "43f58e1c",
   "metadata": {},
   "outputs": [
    {
     "data": {
      "text/plain": [
       "'Hello i am Hero'"
      ]
     },
     "execution_count": 46,
     "metadata": {},
     "output_type": "execute_result"
    }
   ],
   "source": [
    "str2"
   ]
  },
  {
   "cell_type": "code",
   "execution_count": 47,
   "id": "bf4a36c1",
   "metadata": {},
   "outputs": [],
   "source": [
    "del str2 # Delete a string"
   ]
  },
  {
   "cell_type": "code",
   "execution_count": 48,
   "id": "ce55b98d",
   "metadata": {},
   "outputs": [
    {
     "ename": "NameError",
     "evalue": "name 'str2' is not defined",
     "output_type": "error",
     "traceback": [
      "\u001b[1;31m---------------------------------------------------------------------------\u001b[0m",
      "\u001b[1;31mNameError\u001b[0m                                 Traceback (most recent call last)",
      "Input \u001b[1;32mIn [48]\u001b[0m, in \u001b[0;36m<cell line: 1>\u001b[1;34m()\u001b[0m\n\u001b[1;32m----> 1\u001b[0m \u001b[43mstr2\u001b[49m\n",
      "\u001b[1;31mNameError\u001b[0m: name 'str2' is not defined"
     ]
    }
   ],
   "source": [
    "str2"
   ]
  },
  {
   "cell_type": "code",
   "execution_count": 3,
   "id": "949cde3c",
   "metadata": {},
   "outputs": [],
   "source": [
    "str4 = \"Goriben\""
   ]
  },
  {
   "cell_type": "code",
   "execution_count": 4,
   "id": "ec0686b2",
   "metadata": {},
   "outputs": [
    {
     "data": {
      "text/plain": [
       "'Goriben'"
      ]
     },
     "execution_count": 4,
     "metadata": {},
     "output_type": "execute_result"
    }
   ],
   "source": [
    "str4"
   ]
  },
  {
   "cell_type": "code",
   "execution_count": 5,
   "id": "84cfc90f",
   "metadata": {},
   "outputs": [],
   "source": [
    "myarr = ['rohan', 'raju', 'rohit']"
   ]
  },
  {
   "cell_type": "code",
   "execution_count": 6,
   "id": "924340d5",
   "metadata": {},
   "outputs": [
    {
     "data": {
      "text/plain": [
       "['rohan', 'raju', 'rohit']"
      ]
     },
     "execution_count": 6,
     "metadata": {},
     "output_type": "execute_result"
    }
   ],
   "source": [
    "myarr"
   ]
  },
  {
   "cell_type": "markdown",
   "id": "9e03baf6",
   "metadata": {},
   "source": [
    "# String concatenation"
   ]
  },
  {
   "cell_type": "code",
   "execution_count": 7,
   "id": "04f4d49a",
   "metadata": {},
   "outputs": [],
   "source": [
    "s1 = \" data\"\n",
    "s2 = \"is a insight of any\""
   ]
  },
  {
   "cell_type": "code",
   "execution_count": 8,
   "id": "c6049c1c",
   "metadata": {},
   "outputs": [
    {
     "data": {
      "text/plain": [
       "' datais a insight of any'"
      ]
     },
     "execution_count": 8,
     "metadata": {},
     "output_type": "execute_result"
    }
   ],
   "source": [
    "s1+s2"
   ]
  },
  {
   "cell_type": "code",
   "execution_count": 10,
   "id": "8bdf9220",
   "metadata": {},
   "outputs": [
    {
     "data": {
      "text/plain": [
       "' data is a insight of any'"
      ]
     },
     "execution_count": 10,
     "metadata": {},
     "output_type": "execute_result"
    }
   ],
   "source": [
    "s1+\" \"+s2"
   ]
  },
  {
   "cell_type": "code",
   "execution_count": 12,
   "id": "6a19d20b",
   "metadata": {},
   "outputs": [],
   "source": [
    "str1 = s1+ \" \" +s2"
   ]
  },
  {
   "cell_type": "code",
   "execution_count": 13,
   "id": "d80b4bb0",
   "metadata": {},
   "outputs": [
    {
     "data": {
      "text/plain": [
       "' data is a insight of any'"
      ]
     },
     "execution_count": 13,
     "metadata": {},
     "output_type": "execute_result"
    }
   ],
   "source": [
    "str1 "
   ]
  },
  {
   "cell_type": "code",
   "execution_count": 14,
   "id": "9b859f52",
   "metadata": {},
   "outputs": [
    {
     "data": {
      "text/plain": [
       "'Data  Science'"
      ]
     },
     "execution_count": 14,
     "metadata": {},
     "output_type": "execute_result"
    }
   ],
   "source": [
    "\"Data\" + \" \" + \" Science\""
   ]
  },
  {
   "cell_type": "markdown",
   "id": "5aa851f4",
   "metadata": {},
   "source": [
    "### String Membership \n"
   ]
  },
  {
   "cell_type": "code",
   "execution_count": 15,
   "id": "8c8bcc1d",
   "metadata": {},
   "outputs": [
    {
     "data": {
      "text/plain": [
       "True"
      ]
     },
     "execution_count": 15,
     "metadata": {},
     "output_type": "execute_result"
    }
   ],
   "source": [
    "str1 = \"Hello i am pratham\"\n",
    "\"Hello\" in  # When the data present or not"
   ]
  },
  {
   "cell_type": "code",
   "execution_count": 16,
   "id": "b1401fce",
   "metadata": {},
   "outputs": [
    {
     "data": {
      "text/plain": [
       "False"
      ]
     },
     "execution_count": 16,
     "metadata": {},
     "output_type": "execute_result"
    }
   ],
   "source": [
    "\"bhavik\" in str1"
   ]
  },
  {
   "cell_type": "markdown",
   "id": "35ea83e1",
   "metadata": {},
   "source": [
    "## String using function"
   ]
  },
  {
   "cell_type": "markdown",
   "id": "01fc9190",
   "metadata": {},
   "source": [
    "* Count,strip,slice,lower,upper,capitalize,startswith,endswith"
   ]
  },
  {
   "cell_type": "code",
   "execution_count": 45,
   "id": "3c869848",
   "metadata": {},
   "outputs": [],
   "source": [
    "str2 = \"Hello kalu pathan \" # Counting the Chararcter in String\n"
   ]
  },
  {
   "cell_type": "code",
   "execution_count": 46,
   "id": "f3f39d6d",
   "metadata": {},
   "outputs": [],
   "source": [
    "s1 = str2.count(\"Hello\")"
   ]
  },
  {
   "cell_type": "code",
   "execution_count": 47,
   "id": "557aa82a",
   "metadata": {},
   "outputs": [
    {
     "data": {
      "text/plain": [
       "1"
      ]
     },
     "execution_count": 47,
     "metadata": {},
     "output_type": "execute_result"
    }
   ],
   "source": [
    "s1"
   ]
  },
  {
   "cell_type": "code",
   "execution_count": 48,
   "id": "2a2ccddb",
   "metadata": {},
   "outputs": [
    {
     "data": {
      "text/plain": [
       "'Hello kalu pathan'"
      ]
     },
     "execution_count": 48,
     "metadata": {},
     "output_type": "execute_result"
    }
   ],
   "source": [
    "str2.strip()# it use to remove the whitespaces"
   ]
  },
  {
   "cell_type": "code",
   "execution_count": 49,
   "id": "f9156b68",
   "metadata": {},
   "outputs": [
    {
     "data": {
      "text/plain": [
       "'Hello kalu pathan'"
      ]
     },
     "execution_count": 49,
     "metadata": {},
     "output_type": "execute_result"
    }
   ],
   "source": [
    "str2.rstrip()# removes all the whitespace at the end "
   ]
  },
  {
   "cell_type": "code",
   "execution_count": 50,
   "id": "be2e94bf",
   "metadata": {},
   "outputs": [
    {
     "data": {
      "text/plain": [
       "'Hello kalu pathan '"
      ]
     },
     "execution_count": 50,
     "metadata": {},
     "output_type": "execute_result"
    }
   ],
   "source": [
    "str2"
   ]
  },
  {
   "cell_type": "code",
   "execution_count": 51,
   "id": "63c18dbb",
   "metadata": {},
   "outputs": [
    {
     "data": {
      "text/plain": [
       "'HELLO KALU PATHAN '"
      ]
     },
     "execution_count": 51,
     "metadata": {},
     "output_type": "execute_result"
    }
   ],
   "source": [
    "str2.upper()# it use to captial all string value"
   ]
  },
  {
   "cell_type": "code",
   "execution_count": 52,
   "id": "32248b19",
   "metadata": {},
   "outputs": [
    {
     "data": {
      "text/plain": [
       "'hello kalu pathan '"
      ]
     },
     "execution_count": 52,
     "metadata": {},
     "output_type": "execute_result"
    }
   ],
   "source": [
    "str2.lower()# it can use to small all the string value"
   ]
  },
  {
   "cell_type": "code",
   "execution_count": 53,
   "id": "a2c4066b",
   "metadata": {},
   "outputs": [
    {
     "data": {
      "text/plain": [
       "'Hello kalu pathan '"
      ]
     },
     "execution_count": 53,
     "metadata": {},
     "output_type": "execute_result"
    }
   ],
   "source": [
    "str2.capitalize()"
   ]
  },
  {
   "cell_type": "code",
   "execution_count": 57,
   "id": "96d522b3",
   "metadata": {},
   "outputs": [
    {
     "data": {
      "text/plain": [
       "False"
      ]
     },
     "execution_count": 57,
     "metadata": {},
     "output_type": "execute_result"
    }
   ],
   "source": [
    "str2.startswith(\"H \")"
   ]
  },
  {
   "cell_type": "code",
   "execution_count": 60,
   "id": "6fc4e03f",
   "metadata": {},
   "outputs": [
    {
     "data": {
      "text/plain": [
       "False"
      ]
     },
     "execution_count": 60,
     "metadata": {},
     "output_type": "execute_result"
    }
   ],
   "source": [
    "str2.endswith(\"e\")"
   ]
  },
  {
   "cell_type": "markdown",
   "id": "59adcd4a",
   "metadata": {},
   "source": [
    "## TypeCasting"
   ]
  },
  {
   "cell_type": "markdown",
   "id": "d74146a1",
   "metadata": {},
   "source": [
    "* Typecasting is to convert the one data types to another data types"
   ]
  },
  {
   "cell_type": "markdown",
   "id": "5ff6bdb2",
   "metadata": {},
   "source": [
    "* There are two types of typeecasting \n",
    " 1. Auto typecasting\n",
    " 2. Force typecasting"
   ]
  },
  {
   "cell_type": "code",
   "execution_count": 61,
   "id": "d62f45e3",
   "metadata": {},
   "outputs": [],
   "source": [
    "#Force Typecasting\n",
    "int1= 34"
   ]
  },
  {
   "cell_type": "code",
   "execution_count": 62,
   "id": "68d44b5b",
   "metadata": {},
   "outputs": [
    {
     "data": {
      "text/plain": [
       "int"
      ]
     },
     "execution_count": 62,
     "metadata": {},
     "output_type": "execute_result"
    }
   ],
   "source": [
    "type(int1)"
   ]
  },
  {
   "cell_type": "code",
   "execution_count": 63,
   "id": "1fd343d1",
   "metadata": {},
   "outputs": [
    {
     "data": {
      "text/plain": [
       "34.0"
      ]
     },
     "execution_count": 63,
     "metadata": {},
     "output_type": "execute_result"
    }
   ],
   "source": [
    "float(int1)"
   ]
  },
  {
   "cell_type": "code",
   "execution_count": 64,
   "id": "5ded5489",
   "metadata": {},
   "outputs": [
    {
     "data": {
      "text/plain": [
       "'34'"
      ]
     },
     "execution_count": 64,
     "metadata": {},
     "output_type": "execute_result"
    }
   ],
   "source": [
    "str(int1)"
   ]
  },
  {
   "cell_type": "code",
   "execution_count": 65,
   "id": "95c2507f",
   "metadata": {},
   "outputs": [
    {
     "ename": "ValueError",
     "evalue": "invalid literal for int() with base 10: 'Hello i am pratham'",
     "output_type": "error",
     "traceback": [
      "\u001b[1;31m---------------------------------------------------------------------------\u001b[0m",
      "\u001b[1;31mValueError\u001b[0m                                Traceback (most recent call last)",
      "Input \u001b[1;32mIn [65]\u001b[0m, in \u001b[0;36m<cell line: 1>\u001b[1;34m()\u001b[0m\n\u001b[1;32m----> 1\u001b[0m \u001b[38;5;28;43mint\u001b[39;49m\u001b[43m(\u001b[49m\u001b[43mstr1\u001b[49m\u001b[43m)\u001b[49m\n",
      "\u001b[1;31mValueError\u001b[0m: invalid literal for int() with base 10: 'Hello i am pratham'"
     ]
    }
   ],
   "source": [
    "int(str1) # not to be convert the int to str"
   ]
  },
  {
   "cell_type": "code",
   "execution_count": 66,
   "id": "482d495f",
   "metadata": {},
   "outputs": [],
   "source": [
    "# Auto Typecasting"
   ]
  },
  {
   "cell_type": "code",
   "execution_count": 67,
   "id": "09bf021b",
   "metadata": {},
   "outputs": [
    {
     "data": {
      "text/plain": [
       "10"
      ]
     },
     "execution_count": 67,
     "metadata": {},
     "output_type": "execute_result"
    }
   ],
   "source": [
    "9 + True+ False"
   ]
  },
  {
   "cell_type": "code",
   "execution_count": 68,
   "id": "7bd95f2a",
   "metadata": {},
   "outputs": [
    {
     "data": {
      "text/plain": [
       "13.576"
      ]
     },
     "execution_count": 68,
     "metadata": {},
     "output_type": "execute_result"
    }
   ],
   "source": [
    "1.00 + True + 00.343 +11.233 "
   ]
  },
  {
   "cell_type": "code",
   "execution_count": 69,
   "id": "e5a362da",
   "metadata": {},
   "outputs": [
    {
     "data": {
      "text/plain": [
       "4.4"
      ]
     },
     "execution_count": 69,
     "metadata": {},
     "output_type": "execute_result"
    }
   ],
   "source": [
    "True + 3.4 "
   ]
  },
  {
   "cell_type": "code",
   "execution_count": 71,
   "id": "7bfbd996",
   "metadata": {},
   "outputs": [
    {
     "ename": "TypeError",
     "evalue": "unsupported operand type(s) for +: 'int' and 'str'",
     "output_type": "error",
     "traceback": [
      "\u001b[1;31m---------------------------------------------------------------------------\u001b[0m",
      "\u001b[1;31mTypeError\u001b[0m                                 Traceback (most recent call last)",
      "Input \u001b[1;32mIn [71]\u001b[0m, in \u001b[0;36m<cell line: 1>\u001b[1;34m()\u001b[0m\n\u001b[1;32m----> 1\u001b[0m \u001b[38;5;28;43;01mTrue\u001b[39;49;00m\u001b[38;5;241;43m+\u001b[39;49m\u001b[43m \u001b[49m\u001b[38;5;241;43m100\u001b[39;49m\u001b[43m \u001b[49m\u001b[38;5;241;43m+\u001b[39;49m\u001b[38;5;28;43;01mFalse\u001b[39;49;00m\u001b[43m \u001b[49m\u001b[38;5;241;43m+\u001b[39;49m\u001b[38;5;124;43m'\u001b[39;49m\u001b[38;5;124;43mString\u001b[39;49m\u001b[38;5;124;43m'\u001b[39;49m\n",
      "\u001b[1;31mTypeError\u001b[0m: unsupported operand type(s) for +: 'int' and 'str'"
     ]
    }
   ],
   "source": [
    "True+ 100 +False +'String' # you cannot add the string then it the error ok"
   ]
  },
  {
   "cell_type": "code",
   "execution_count": 74,
   "id": "8583dc19",
   "metadata": {},
   "outputs": [],
   "source": [
    "str3 = \" Method\"\n",
    "s2 = str3.isnumeric()"
   ]
  },
  {
   "cell_type": "code",
   "execution_count": 76,
   "id": "6b34e237",
   "metadata": {},
   "outputs": [
    {
     "data": {
      "text/plain": [
       "False"
      ]
     },
     "execution_count": 76,
     "metadata": {},
     "output_type": "execute_result"
    }
   ],
   "source": [
    "s2"
   ]
  },
  {
   "cell_type": "markdown",
   "id": "c81f419f",
   "metadata": {},
   "source": [
    "# Operators"
   ]
  },
  {
   "cell_type": "markdown",
   "id": "045e899e",
   "metadata": {},
   "source": [
    "### Arethmatic operators"
   ]
  },
  {
   "cell_type": "code",
   "execution_count": 86,
   "id": "eec03f2a",
   "metadata": {},
   "outputs": [],
   "source": [
    "a =10\n",
    "b= 20"
   ]
  },
  {
   "cell_type": "code",
   "execution_count": 87,
   "id": "df45a01d",
   "metadata": {},
   "outputs": [
    {
     "data": {
      "text/plain": [
       "30"
      ]
     },
     "execution_count": 87,
     "metadata": {},
     "output_type": "execute_result"
    }
   ],
   "source": [
    "a+ b"
   ]
  },
  {
   "cell_type": "code",
   "execution_count": 88,
   "id": "32daa29e",
   "metadata": {},
   "outputs": [
    {
     "data": {
      "text/plain": [
       "-10"
      ]
     },
     "execution_count": 88,
     "metadata": {},
     "output_type": "execute_result"
    }
   ],
   "source": [
    "a-b"
   ]
  },
  {
   "cell_type": "code",
   "execution_count": 89,
   "id": "9f7d431e",
   "metadata": {},
   "outputs": [
    {
     "data": {
      "text/plain": [
       "200"
      ]
     },
     "execution_count": 89,
     "metadata": {},
     "output_type": "execute_result"
    }
   ],
   "source": [
    "a*b"
   ]
  },
  {
   "cell_type": "code",
   "execution_count": 90,
   "id": "c649bb36",
   "metadata": {},
   "outputs": [
    {
     "data": {
      "text/plain": [
       "0"
      ]
     },
     "execution_count": 90,
     "metadata": {},
     "output_type": "execute_result"
    }
   ],
   "source": [
    "a//b"
   ]
  },
  {
   "cell_type": "code",
   "execution_count": 91,
   "id": "cde00b49",
   "metadata": {},
   "outputs": [
    {
     "data": {
      "text/plain": [
       "10"
      ]
     },
     "execution_count": 91,
     "metadata": {},
     "output_type": "execute_result"
    }
   ],
   "source": [
    "a%b"
   ]
  },
  {
   "cell_type": "code",
   "execution_count": 92,
   "id": "715ae295",
   "metadata": {},
   "outputs": [
    {
     "data": {
      "text/plain": [
       "100000000000000000000"
      ]
     },
     "execution_count": 92,
     "metadata": {},
     "output_type": "execute_result"
    }
   ],
   "source": [
    "a**b"
   ]
  },
  {
   "cell_type": "markdown",
   "id": "23af0acb",
   "metadata": {},
   "source": [
    "# comparison operators"
   ]
  },
  {
   "cell_type": "code",
   "execution_count": 93,
   "id": "f757a700",
   "metadata": {},
   "outputs": [],
   "source": [
    "x = 10 \n",
    "y = 20"
   ]
  },
  {
   "cell_type": "code",
   "execution_count": 106,
   "id": "92cefe7c",
   "metadata": {},
   "outputs": [
    {
     "name": "stdout",
     "output_type": "stream",
     "text": [
      "X is greater than Y >>  False\n",
      "x equal to y >> False\n",
      "X is not equal to y  True\n",
      "x is less than y or equal to is  True\n",
      "x is greater than y or equal to is  False\n"
     ]
    }
   ],
   "source": [
    "print(\"X is greater than Y >> \",x > y)\n",
    "print(\"x equal to y >>\",x==y)\n",
    "print(\"X is not equal to y \",x!=y)\n",
    "print(\"x is less than y or equal to is \", x<=y)\n",
    "print(\"x is greater than y or equal to is \",x>=y)"
   ]
  },
  {
   "cell_type": "code",
   "execution_count": 107,
   "id": "4ed1a8b0",
   "metadata": {},
   "outputs": [
    {
     "name": "stdout",
     "output_type": "stream",
     "text": [
      "y is less than x >>  True\n",
      "y equal to x>> False\n",
      "y is not equal to x  True\n",
      "y is greater than x or equal to is  True\n",
      "y is less than x or equal to is  False\n"
     ]
    }
   ],
   "source": [
    "print(\"y is less than x >> \",y > x)\n",
    "print(\"y equal to x>>\",y==x)\n",
    "print(\"y is not equal to x \",y!=x)\n",
    "print(\"y is greater than x or equal to is \", y>=x)\n",
    "print(\"y is less than x or equal to is \",y<=x)"
   ]
  },
  {
   "cell_type": "markdown",
   "id": "b48563f8",
   "metadata": {},
   "source": [
    "## input Function"
   ]
  },
  {
   "cell_type": "code",
   "execution_count": 1,
   "id": "6036d50f",
   "metadata": {},
   "outputs": [
    {
     "name": "stdout",
     "output_type": "stream",
     "text": [
      "1111\n"
     ]
    },
    {
     "data": {
      "text/plain": [
       "'1111'"
      ]
     },
     "execution_count": 1,
     "metadata": {},
     "output_type": "execute_result"
    }
   ],
   "source": [
    "input()"
   ]
  },
  {
   "cell_type": "code",
   "execution_count": 4,
   "id": "2286adfe",
   "metadata": {},
   "outputs": [
    {
     "name": "stdout",
     "output_type": "stream",
     "text": [
      "Enter the name:-pratham\n",
      "Enter the Age:-12\n",
      "Enter the Address:-Sigma nest\n",
      "My name is :-  pratham\n",
      "My Age is  12.0\n",
      "My Address is Sigma nest\n"
     ]
    }
   ],
   "source": [
    "# practic 1 input Function\n",
    "User_Name= input(\"Enter the name:-\")\n",
    "User_Age = float(input(\"Enter the Age:-\"))\n",
    "User_Address = input(\"Enter the Address:-\")\n",
    "print(\"My name is :- \",User_Name)\n",
    "print(\"My Age is \",User_Age)\n",
    "print(\"My Address is\",User_Address)"
   ]
  },
  {
   "cell_type": "markdown",
   "id": "d43c7f00",
   "metadata": {},
   "source": [
    "## if Condition"
   ]
  },
  {
   "cell_type": "code",
   "execution_count": 6,
   "id": "8905bb39",
   "metadata": {},
   "outputs": [
    {
     "name": "stdout",
     "output_type": "stream",
     "text": [
      "Hello\n"
     ]
    }
   ],
   "source": [
    "x = 4 \n",
    "if x > 10:\n",
    "    print(\"If condition is true\")\n",
    "print(\"Hello\")"
   ]
  },
  {
   "cell_type": "code",
   "execution_count": 7,
   "id": "8657d479",
   "metadata": {},
   "outputs": [
    {
     "name": "stdout",
     "output_type": "stream",
     "text": [
      "Enter the Age : 12\n",
      "Vote nhi de sakte hai\n"
     ]
    }
   ],
   "source": [
    "# if else condition and input condition\n",
    "User = float(input(\"Enter the Age : \"))\n",
    "if User > 18:\n",
    "    print(\"Vote de sakta hai tu\")\n",
    "else:\n",
    "    print(\"Vote nhi de sakte hai\")"
   ]
  },
  {
   "cell_type": "code",
   "execution_count": 8,
   "id": "29ac83d4",
   "metadata": {},
   "outputs": [
    {
     "name": "stdout",
     "output_type": "stream",
     "text": [
      "Then the india is winning this match\n"
     ]
    }
   ],
   "source": [
    "# ind vs aus \n",
    "ind_inn1 = 300\n",
    "aus_inn1 = 200\n",
    "if aus_inn1 > ind_inn1:\n",
    "    print(\"Then the aus is winning this match\")\n",
    "elif aus_inn1 == ind_inn1:\n",
    "    print(\"This match is draw\") \n",
    "else:\n",
    "    print(\"Then the india is winning this match\")\n"
   ]
  },
  {
   "cell_type": "markdown",
   "id": "5ff4f8fb",
   "metadata": {},
   "source": [
    "## State block \n"
   ]
  },
  {
   "cell_type": "code",
   "execution_count": 13,
   "id": "d577bac3",
   "metadata": {},
   "outputs": [
    {
     "name": "stdout",
     "output_type": "stream",
     "text": [
      "5 is greater then 4 \n",
      "i am in inner if statement\n",
      "i am in outer if statment\n"
     ]
    }
   ],
   "source": [
    "if(5 > 4):\n",
    "    print(\"5 is greater then 4 \")\n",
    "    print(\"i am in inner if statement\")\n",
    "print(\"i am in outer if statment\")    "
   ]
  },
  {
   "cell_type": "code",
   "execution_count": 18,
   "id": "daaa1d78",
   "metadata": {},
   "outputs": [
    {
     "name": "stdout",
     "output_type": "stream",
     "text": [
      "Enter the value :-  67\n",
      "Postive integer\n"
     ]
    }
   ],
   "source": [
    "# practice 2\n",
    "user = int(input(\"Enter the value :-  \"))\n",
    "if user > 0:\n",
    "    print(\"Postive integer\")\n",
    "elif user < 0:\n",
    "    print(\"negative value\")\n",
    "else:\n",
    "    print(\"Zero value\")"
   ]
  },
  {
   "cell_type": "code",
   "execution_count": 23,
   "id": "623c7a51",
   "metadata": {},
   "outputs": [
    {
     "name": "stdout",
     "output_type": "stream",
     "text": [
      "Enter the value :- 2\n",
      "Even number\n"
     ]
    }
   ],
   "source": [
    "#pratice 3\n",
    "user1 = int(input(\"Enter the value :- \"))\n",
    "if user1%2==0:\n",
    "    print(\"Even number\")\n",
    "else:\n",
    "    print(\"Odd number\")\n",
    "    "
   ]
  },
  {
   "cell_type": "code",
   "execution_count": 5,
   "id": "50e18b5a",
   "metadata": {},
   "outputs": [],
   "source": [
    "str10 = \"Software engineer\""
   ]
  },
  {
   "cell_type": "code",
   "execution_count": 13,
   "id": "daa23008",
   "metadata": {},
   "outputs": [],
   "source": [
    "str11 = str10[0:4:1][::-1]"
   ]
  },
  {
   "cell_type": "code",
   "execution_count": 20,
   "id": "b7f187ac",
   "metadata": {},
   "outputs": [],
   "source": [
    "str12 = str10[9:13:1][::-1]"
   ]
  },
  {
   "cell_type": "code",
   "execution_count": 21,
   "id": "f2a9ccb1",
   "metadata": {},
   "outputs": [
    {
     "data": {
      "text/plain": [
       "'tfoS'"
      ]
     },
     "execution_count": 21,
     "metadata": {},
     "output_type": "execute_result"
    }
   ],
   "source": [
    "str11"
   ]
  },
  {
   "cell_type": "code",
   "execution_count": 22,
   "id": "015823e6",
   "metadata": {},
   "outputs": [
    {
     "data": {
      "text/plain": [
       "'igne'"
      ]
     },
     "execution_count": 22,
     "metadata": {},
     "output_type": "execute_result"
    }
   ],
   "source": [
    "str12"
   ]
  },
  {
   "cell_type": "code",
   "execution_count": 25,
   "id": "cf45725b",
   "metadata": {},
   "outputs": [],
   "source": [
    "str13 = str11 + \" \" + str12"
   ]
  },
  {
   "cell_type": "code",
   "execution_count": 26,
   "id": "c4f55644",
   "metadata": {},
   "outputs": [
    {
     "data": {
      "text/plain": [
       "'tfoS igne'"
      ]
     },
     "execution_count": 26,
     "metadata": {},
     "output_type": "execute_result"
    }
   ],
   "source": [
    "str13"
   ]
  },
  {
   "cell_type": "code",
   "execution_count": 27,
   "id": "3f83f192",
   "metadata": {},
   "outputs": [
    {
     "data": {
      "text/plain": [
       "'engi Soft'"
      ]
     },
     "execution_count": 27,
     "metadata": {},
     "output_type": "execute_result"
    }
   ],
   "source": [
    "str13[::-1]"
   ]
  },
  {
   "cell_type": "markdown",
   "id": "6940f800",
   "metadata": {},
   "source": [
    "# Date and Time method "
   ]
  },
  {
   "cell_type": "code",
   "execution_count": 28,
   "id": "aa9de085",
   "metadata": {},
   "outputs": [],
   "source": [
    "from datetime import date"
   ]
  },
  {
   "cell_type": "code",
   "execution_count": 29,
   "id": "6cdb9df3",
   "metadata": {},
   "outputs": [],
   "source": [
    "my_Date = date(2004,12,13)"
   ]
  },
  {
   "cell_type": "code",
   "execution_count": 30,
   "id": "0af45fa6",
   "metadata": {},
   "outputs": [
    {
     "data": {
      "text/plain": [
       "datetime.date(2004, 12, 13)"
      ]
     },
     "execution_count": 30,
     "metadata": {},
     "output_type": "execute_result"
    }
   ],
   "source": [
    "my_Date"
   ]
  },
  {
   "cell_type": "code",
   "execution_count": 34,
   "id": "c3ecc77b",
   "metadata": {},
   "outputs": [],
   "source": [
    "today_fc = date.today()"
   ]
  },
  {
   "cell_type": "code",
   "execution_count": 35,
   "id": "f18aa4cd",
   "metadata": {},
   "outputs": [
    {
     "data": {
      "text/plain": [
       "datetime.date(2024, 12, 28)"
      ]
     },
     "execution_count": 35,
     "metadata": {},
     "output_type": "execute_result"
    }
   ],
   "source": [
    "today_fc"
   ]
  },
  {
   "cell_type": "code",
   "execution_count": 38,
   "id": "68629da7",
   "metadata": {},
   "outputs": [
    {
     "data": {
      "text/plain": [
       "2024"
      ]
     },
     "execution_count": 38,
     "metadata": {},
     "output_type": "execute_result"
    }
   ],
   "source": [
    "today_fc.year"
   ]
  },
  {
   "cell_type": "code",
   "execution_count": 39,
   "id": "8a7416a9",
   "metadata": {},
   "outputs": [
    {
     "data": {
      "text/plain": [
       "28"
      ]
     },
     "execution_count": 39,
     "metadata": {},
     "output_type": "execute_result"
    }
   ],
   "source": [
    "today_fc.day"
   ]
  },
  {
   "cell_type": "code",
   "execution_count": 40,
   "id": "9feed1f7",
   "metadata": {},
   "outputs": [
    {
     "data": {
      "text/plain": [
       "12"
      ]
     },
     "execution_count": 40,
     "metadata": {},
     "output_type": "execute_result"
    }
   ],
   "source": [
    "today_fc.month"
   ]
  },
  {
   "cell_type": "code",
   "execution_count": 41,
   "id": "8226f5a8",
   "metadata": {},
   "outputs": [
    {
     "data": {
      "text/plain": [
       "6"
      ]
     },
     "execution_count": 41,
     "metadata": {},
     "output_type": "execute_result"
    }
   ],
   "source": [
    "today_fc.isoweekday()"
   ]
  },
  {
   "cell_type": "code",
   "execution_count": 43,
   "id": "222957e7",
   "metadata": {},
   "outputs": [],
   "source": [
    "from datetime import datetime as dt"
   ]
  },
  {
   "cell_type": "code",
   "execution_count": 46,
   "id": "b571095c",
   "metadata": {},
   "outputs": [],
   "source": [
    "date1 = dt.now()"
   ]
  },
  {
   "cell_type": "code",
   "execution_count": 48,
   "id": "1f0411e2",
   "metadata": {},
   "outputs": [
    {
     "data": {
      "text/plain": [
       "datetime.datetime(2024, 12, 28, 16, 54, 22, 799129)"
      ]
     },
     "execution_count": 48,
     "metadata": {},
     "output_type": "execute_result"
    }
   ],
   "source": [
    "date1"
   ]
  },
  {
   "cell_type": "code",
   "execution_count": 49,
   "id": "da6fb14d",
   "metadata": {},
   "outputs": [
    {
     "data": {
      "text/plain": [
       "datetime.date(2024, 12, 28)"
      ]
     },
     "execution_count": 49,
     "metadata": {},
     "output_type": "execute_result"
    }
   ],
   "source": [
    "dt.date(date1)"
   ]
  },
  {
   "cell_type": "code",
   "execution_count": 50,
   "id": "9e230156",
   "metadata": {},
   "outputs": [
    {
     "data": {
      "text/plain": [
       "799129"
      ]
     },
     "execution_count": 50,
     "metadata": {},
     "output_type": "execute_result"
    }
   ],
   "source": [
    "date1.microsecond"
   ]
  },
  {
   "cell_type": "code",
   "execution_count": 51,
   "id": "8bbafb07",
   "metadata": {},
   "outputs": [
    {
     "data": {
      "text/plain": [
       "22"
      ]
     },
     "execution_count": 51,
     "metadata": {},
     "output_type": "execute_result"
    }
   ],
   "source": [
    "date1.second"
   ]
  },
  {
   "cell_type": "code",
   "execution_count": 52,
   "id": "f26ed1cd",
   "metadata": {},
   "outputs": [
    {
     "data": {
      "text/plain": [
       "16"
      ]
     },
     "execution_count": 52,
     "metadata": {},
     "output_type": "execute_result"
    }
   ],
   "source": [
    "date1.hour"
   ]
  },
  {
   "cell_type": "code",
   "execution_count": 53,
   "id": "1a9db243",
   "metadata": {},
   "outputs": [
    {
     "data": {
      "text/plain": [
       "6"
      ]
     },
     "execution_count": 53,
     "metadata": {},
     "output_type": "execute_result"
    }
   ],
   "source": [
    "date1.isoweekday()"
   ]
  },
  {
   "cell_type": "code",
   "execution_count": 70,
   "id": "e551b3b6",
   "metadata": {},
   "outputs": [],
   "source": [
    "import calendar as cl"
   ]
  },
  {
   "cell_type": "code",
   "execution_count": 71,
   "id": "eff32e69",
   "metadata": {},
   "outputs": [
    {
     "name": "stdout",
     "output_type": "stream",
     "text": [
      "<module 'calendar' from 'C:\\\\Users\\\\tesla\\\\anaconda3\\\\lib\\\\calendar.py'>\n"
     ]
    }
   ],
   "source": [
    "print(cl)"
   ]
  },
  {
   "cell_type": "code",
   "execution_count": 72,
   "id": "b937c4d9",
   "metadata": {},
   "outputs": [],
   "source": [
    "year = 2004\n",
    "month = 2"
   ]
  },
  {
   "cell_type": "code",
   "execution_count": 74,
   "id": "19e6747e",
   "metadata": {},
   "outputs": [
    {
     "name": "stdout",
     "output_type": "stream",
     "text": [
      "   February 2004\n",
      "Mo Tu We Th Fr Sa Su\n",
      "                   1\n",
      " 2  3  4  5  6  7  8\n",
      " 9 10 11 12 13 14 15\n",
      "16 17 18 19 20 21 22\n",
      "23 24 25 26 27 28 29\n",
      "\n"
     ]
    }
   ],
   "source": [
    "print(cl.month(year,month))"
   ]
  },
  {
   "cell_type": "code",
   "execution_count": 77,
   "id": "babab7a8",
   "metadata": {},
   "outputs": [
    {
     "name": "stdout",
     "output_type": "stream",
     "text": [
      "    January 2004\n",
      "Mo Tu We Th Fr Sa Su\n",
      "          1  2  3  4\n",
      " 5  6  7  8  9 10 11\n",
      "12 13 14 15 16 17 18\n",
      "19 20 21 22 23 24 25\n",
      "26 27 28 29 30 31\n",
      "\n",
      "   February 2004\n",
      "Mo Tu We Th Fr Sa Su\n",
      "                   1\n",
      " 2  3  4  5  6  7  8\n",
      " 9 10 11 12 13 14 15\n",
      "16 17 18 19 20 21 22\n",
      "23 24 25 26 27 28 29\n",
      "\n",
      "     March 2004\n",
      "Mo Tu We Th Fr Sa Su\n",
      " 1  2  3  4  5  6  7\n",
      " 8  9 10 11 12 13 14\n",
      "15 16 17 18 19 20 21\n",
      "22 23 24 25 26 27 28\n",
      "29 30 31\n",
      "\n",
      "     April 2004\n",
      "Mo Tu We Th Fr Sa Su\n",
      "          1  2  3  4\n",
      " 5  6  7  8  9 10 11\n",
      "12 13 14 15 16 17 18\n",
      "19 20 21 22 23 24 25\n",
      "26 27 28 29 30\n",
      "\n",
      "      May 2004\n",
      "Mo Tu We Th Fr Sa Su\n",
      "                1  2\n",
      " 3  4  5  6  7  8  9\n",
      "10 11 12 13 14 15 16\n",
      "17 18 19 20 21 22 23\n",
      "24 25 26 27 28 29 30\n",
      "31\n",
      "\n",
      "     June 2004\n",
      "Mo Tu We Th Fr Sa Su\n",
      "    1  2  3  4  5  6\n",
      " 7  8  9 10 11 12 13\n",
      "14 15 16 17 18 19 20\n",
      "21 22 23 24 25 26 27\n",
      "28 29 30\n",
      "\n",
      "     July 2004\n",
      "Mo Tu We Th Fr Sa Su\n",
      "          1  2  3  4\n",
      " 5  6  7  8  9 10 11\n",
      "12 13 14 15 16 17 18\n",
      "19 20 21 22 23 24 25\n",
      "26 27 28 29 30 31\n",
      "\n",
      "    August 2004\n",
      "Mo Tu We Th Fr Sa Su\n",
      "                   1\n",
      " 2  3  4  5  6  7  8\n",
      " 9 10 11 12 13 14 15\n",
      "16 17 18 19 20 21 22\n",
      "23 24 25 26 27 28 29\n",
      "30 31\n",
      "\n",
      "   September 2004\n",
      "Mo Tu We Th Fr Sa Su\n",
      "       1  2  3  4  5\n",
      " 6  7  8  9 10 11 12\n",
      "13 14 15 16 17 18 19\n",
      "20 21 22 23 24 25 26\n",
      "27 28 29 30\n",
      "\n",
      "    October 2004\n",
      "Mo Tu We Th Fr Sa Su\n",
      "             1  2  3\n",
      " 4  5  6  7  8  9 10\n",
      "11 12 13 14 15 16 17\n",
      "18 19 20 21 22 23 24\n",
      "25 26 27 28 29 30 31\n",
      "\n",
      "   November 2004\n",
      "Mo Tu We Th Fr Sa Su\n",
      " 1  2  3  4  5  6  7\n",
      " 8  9 10 11 12 13 14\n",
      "15 16 17 18 19 20 21\n",
      "22 23 24 25 26 27 28\n",
      "29 30\n",
      "\n",
      "   December 2004\n",
      "Mo Tu We Th Fr Sa Su\n",
      "       1  2  3  4  5\n",
      " 6  7  8  9 10 11 12\n",
      "13 14 15 16 17 18 19\n",
      "20 21 22 23 24 25 26\n",
      "27 28 29 30 31\n",
      "\n"
     ]
    }
   ],
   "source": [
    "for i in range(12):\n",
    "    month = i + 1\n",
    "    print(cl.month(year,month))"
   ]
  },
  {
   "cell_type": "markdown",
   "id": "ed21a113",
   "metadata": {},
   "source": [
    "# List - list is mutable data strurcture\n"
   ]
  },
  {
   "cell_type": "markdown",
   "id": "101f8ca3",
   "metadata": {},
   "source": [
    "* It can be changed after the creation of the List"
   ]
  },
  {
   "cell_type": "code",
   "execution_count": 81,
   "id": "2d050c35",
   "metadata": {},
   "outputs": [
    {
     "data": {
      "text/plain": [
       "['1', '2', '3', '4', '5']"
      ]
     },
     "execution_count": 81,
     "metadata": {},
     "output_type": "execute_result"
    }
   ],
   "source": [
    "list1 = [\"1\",\"2\",\"3\",\"4\",\"5\"]\n",
    "list1"
   ]
  },
  {
   "cell_type": "code",
   "execution_count": 82,
   "id": "c8277241",
   "metadata": {},
   "outputs": [],
   "source": [
    "list1.reverse()"
   ]
  },
  {
   "cell_type": "code",
   "execution_count": 83,
   "id": "9c5ce77b",
   "metadata": {},
   "outputs": [
    {
     "data": {
      "text/plain": [
       "['5', '4', '3', '2', '1']"
      ]
     },
     "execution_count": 83,
     "metadata": {},
     "output_type": "execute_result"
    }
   ],
   "source": [
    "list1"
   ]
  },
  {
   "cell_type": "code",
   "execution_count": 106,
   "id": "51868fc8",
   "metadata": {},
   "outputs": [
    {
     "data": {
      "text/plain": [
       "[]"
      ]
     },
     "execution_count": 106,
     "metadata": {},
     "output_type": "execute_result"
    }
   ],
   "source": [
    "list2"
   ]
  },
  {
   "cell_type": "code",
   "execution_count": 107,
   "id": "83864415",
   "metadata": {},
   "outputs": [],
   "source": [
    "list2.clear()"
   ]
  },
  {
   "cell_type": "code",
   "execution_count": 108,
   "id": "307c7155",
   "metadata": {},
   "outputs": [],
   "source": [
    "list2=[]"
   ]
  },
  {
   "cell_type": "code",
   "execution_count": 109,
   "id": "134bcc62",
   "metadata": {},
   "outputs": [],
   "source": [
    "list2.append(3)"
   ]
  },
  {
   "cell_type": "code",
   "execution_count": 110,
   "id": "83aefe8b",
   "metadata": {},
   "outputs": [
    {
     "data": {
      "text/plain": [
       "[3]"
      ]
     },
     "execution_count": 110,
     "metadata": {},
     "output_type": "execute_result"
    }
   ],
   "source": [
    "list2"
   ]
  },
  {
   "cell_type": "code",
   "execution_count": 112,
   "id": "4a58cd77",
   "metadata": {},
   "outputs": [],
   "source": [
    "list2.extend([1,2,3])"
   ]
  },
  {
   "cell_type": "code",
   "execution_count": 118,
   "id": "7d9e84f5",
   "metadata": {},
   "outputs": [
    {
     "data": {
      "text/plain": [
       "[1, 2, 3, 3]"
      ]
     },
     "execution_count": 118,
     "metadata": {},
     "output_type": "execute_result"
    }
   ],
   "source": [
    "list2"
   ]
  },
  {
   "cell_type": "code",
   "execution_count": 126,
   "id": "ccf3b20c",
   "metadata": {},
   "outputs": [],
   "source": [
    "list3 = [\"20\",\"25\",\"10\",\"2\",\"32\"]"
   ]
  },
  {
   "cell_type": "code",
   "execution_count": 134,
   "id": "95af6e2a",
   "metadata": {},
   "outputs": [
    {
     "data": {
      "text/plain": [
       "['10', '2', '20', '25', '32']"
      ]
     },
     "execution_count": 134,
     "metadata": {},
     "output_type": "execute_result"
    }
   ],
   "source": [
    "list3.sort()\n",
    "list3"
   ]
  },
  {
   "cell_type": "code",
   "execution_count": 132,
   "id": "7ffcac0a",
   "metadata": {},
   "outputs": [],
   "source": [
    "list3.sort(reverse = True)"
   ]
  },
  {
   "cell_type": "code",
   "execution_count": 133,
   "id": "64129abc",
   "metadata": {},
   "outputs": [
    {
     "data": {
      "text/plain": [
       "['32', '25', '20', '2', '10']"
      ]
     },
     "execution_count": 133,
     "metadata": {},
     "output_type": "execute_result"
    }
   ],
   "source": [
    "list3"
   ]
  },
  {
   "cell_type": "code",
   "execution_count": null,
   "id": "80a12ef4",
   "metadata": {},
   "outputs": [],
   "source": []
  }
 ],
 "metadata": {
  "kernelspec": {
   "display_name": "Python 3 (ipykernel)",
   "language": "python",
   "name": "python3"
  },
  "language_info": {
   "codemirror_mode": {
    "name": "ipython",
    "version": 3
   },
   "file_extension": ".py",
   "mimetype": "text/x-python",
   "name": "python",
   "nbconvert_exporter": "python",
   "pygments_lexer": "ipython3",
   "version": "3.9.12"
  }
 },
 "nbformat": 4,
 "nbformat_minor": 5
}
